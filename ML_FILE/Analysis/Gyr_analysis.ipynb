{
 "cells": [
  {
   "cell_type": "code",
   "execution_count": 1,
   "metadata": {},
   "outputs": [],
   "source": [
    "import os\n",
    "import time\n",
    "import pickle\n",
    "import pprint\n",
    "import numpy as np\n",
    "import pandas as pd\n",
    "import matplotlib.pyplot as plt\n",
    "\n",
    "from sklearn.preprocessing import StandardScaler, LabelEncoder\n",
    "from sklearn.decomposition import PCA, KernelPCA, TruncatedSVD\n",
    "from sklearn.metrics import confusion_matrix, f1_score, accuracy_score\n",
    "from sklearn import metrics\n",
    "from sklearn.tree import DecisionTreeClassifier\n",
    "from sklearn.neighbors import KNeighborsClassifier"
   ]
  },
  {
   "cell_type": "code",
   "execution_count": 2,
   "metadata": {},
   "outputs": [],
   "source": [
    "if os.path.basename(os.getcwd()) != \"ML_FILE\":\n",
    "    os.chdir('..')"
   ]
  },
  {
   "cell_type": "markdown",
   "metadata": {},
   "source": [
    "## 1. Data loading"
   ]
  },
  {
   "cell_type": "markdown",
   "metadata": {},
   "source": [
    "#### 1.1. Loads accelerations data_set - adds yours data files here to load them"
   ]
  },
  {
   "cell_type": "code",
   "execution_count": 3,
   "metadata": {},
   "outputs": [],
   "source": [
    "alldfC1 = pd.read_csv('data_sensor/test_ori_V0_3s.csv')\n",
    "alldfC2 = pd.read_csv('data_sensor/test_ori_V0_3s.csv')\n",
    "\n",
    "alldfneutral= pd.read_csv('data_sensor/test_neutral.csv')\n",
    "alldfneutral['Type'] = 'Neutral'\n",
    "\n",
    "alldfacc = pd.read_csv('data_sensor/test_acc_C2_V0.csv')\n",
    "alldfacc['Type'] = 'Neutral'\n",
    "#add yours data files below \n",
    "\n",
    "\n",
    "#example: type newdf = pd.read_csv('data_sensor/newdf_data.csv)"
   ]
  },
  {
   "cell_type": "markdown",
   "metadata": {},
   "source": [
    "This function is to concatenate several dataframe, while keeping consistency of IDs and indexes"
   ]
  },
  {
   "cell_type": "code",
   "execution_count": 4,
   "metadata": {},
   "outputs": [],
   "source": [
    "def perfect_concat(List_df):\n",
    "    df = pd.DataFrame()\n",
    "    def lil_concat(a,b):\n",
    "        if a.empty:\n",
    "            return b\n",
    "        else:\n",
    "            b['ID'] += a['ID'].max()\n",
    "            b['index'] += a['index'].max() + 1\n",
    "            return (pd.concat([a,b], axis = 0, ignore_index=True))\n",
    "    for i in range(len(List_df)):\n",
    "        df = lil_concat(df, List_df[i])\n",
    "    return df"
   ]
  },
  {
   "cell_type": "markdown",
   "metadata": {},
   "source": [
    "To prepare the dataset, just concat the list of the \"littles\" datasets"
   ]
  },
  {
   "cell_type": "markdown",
   "metadata": {},
   "source": [
    "#### 1.2. Get the whole dataset, please modify list data below if you want to add your own data"
   ]
  },
  {
   "cell_type": "code",
   "execution_count": 5,
   "metadata": {},
   "outputs": [],
   "source": [
    "Ldata = [alldfC1, alldfC2, alldfneutral, alldfacc]\n",
    "#example : do ListData.append(newdf)"
   ]
  },
  {
   "cell_type": "code",
   "execution_count": 6,
   "metadata": {},
   "outputs": [
    {
     "data": {
      "text/plain": [
       "(44261, 11)"
      ]
     },
     "execution_count": 6,
     "metadata": {},
     "output_type": "execute_result"
    }
   ],
   "source": [
    "alldf = perfect_concat([alldfC1, alldfC2, alldfneutral, alldfacc])\n",
    "alldf.shape"
   ]
  },
  {
   "cell_type": "markdown",
   "metadata": {},
   "source": [
    "#### 1.3. Remove the gravity part of the dataset"
   ]
  },
  {
   "cell_type": "code",
   "execution_count": 7,
   "metadata": {},
   "outputs": [
    {
     "name": "stdout",
     "output_type": "stream",
     "text": [
      " Max index : 44260\n"
     ]
    }
   ],
   "source": [
    "\n",
    "print(f\" Max index : {alldf.index.max()}\")\n",
    "DEG_TO_RAD = np.pi / 180\n",
    "\n",
    "alldf['X_acc'] = alldf['X_acc'] - 9.81* np.sin(DEG_TO_RAD * alldf['Pitch'])\n",
    "alldf['Y_acc'] = alldf['Y_acc'] - 9.81 * np.sin(DEG_TO_RAD * alldf['Roll'])*np.cos(DEG_TO_RAD * alldf['Pitch'])\n",
    "alldf['Z_acc'] = alldf['Z_acc'] - 9.81 * np.cos(DEG_TO_RAD * alldf['Roll'])*np.cos(DEG_TO_RAD * alldf['Pitch'])\n",
    "\n",
    "all_data = alldf.copy()"
   ]
  },
  {
   "cell_type": "markdown",
   "metadata": {},
   "source": [
    "#### 1.4. Look on data"
   ]
  },
  {
   "cell_type": "markdown",
   "metadata": {},
   "source": [
    "Compare number of measures by Type"
   ]
  },
  {
   "cell_type": "code",
   "execution_count": 8,
   "metadata": {},
   "outputs": [
    {
     "data": {
      "text/plain": [
       "[Text(0, 0, '10007'),\n",
       " Text(0, 0, '11102'),\n",
       " Text(0, 0, '10860'),\n",
       " Text(0, 0, '12292')]"
      ]
     },
     "execution_count": 8,
     "metadata": {},
     "output_type": "execute_result"
    },
    {
     "data": {
      "image/png": "[encoded data removed]",
      "text/plain": [
       "<Figure size 432x288 with 1 Axes>"
      ]
     },
     "metadata": {
      "needs_background": "light"
     },
     "output_type": "display_data"
    }
   ],
   "source": [
    "ax = nb_by_type = all_data.groupby('Type').index.nunique().plot.barh()\n",
    "ax.bar_label(ax.containers[0])"
   ]
  },
  {
   "cell_type": "markdown",
   "metadata": {},
   "source": [
    "## 2. Tabularize data"
   ]
  },
  {
   "cell_type": "markdown",
   "metadata": {},
   "source": [
    "#### 2.1. Data creation"
   ]
  },
  {
   "cell_type": "markdown",
   "metadata": {},
   "source": [
    "we define the number of previous sample considered with length_tab"
   ]
  },
  {
   "cell_type": "code",
   "execution_count": 9,
   "metadata": {},
   "outputs": [],
   "source": [
    "length_tab = 7\n",
    "n_id = alldf[alldf['Type'] == 'Roll'].ID.unique().shape[0]"
   ]
  },
  {
   "cell_type": "code",
   "execution_count": 10,
   "metadata": {},
   "outputs": [
    {
     "name": "stdout",
     "output_type": "stream",
     "text": [
      "['ID', 'Type', 'Interval Time', 'Time', 'index', 'X_acc_1', 'Y_acc_1', 'Z_acc_1', 'Roll_1', 'Pitch_1', 'Yaw_1', 'X_acc_2', 'Y_acc_2', 'Z_acc_2', 'Roll_2', 'Pitch_2', 'Yaw_2', 'X_acc_3', 'Y_acc_3', 'Z_acc_3', 'Roll_3', 'Pitch_3', 'Yaw_3', 'X_acc_4', 'Y_acc_4', 'Z_acc_4', 'Roll_4', 'Pitch_4', 'Yaw_4', 'X_acc_5', 'Y_acc_5', 'Z_acc_5', 'Roll_5', 'Pitch_5', 'Yaw_5', 'X_acc_6', 'Y_acc_6', 'Z_acc_6', 'Roll_6', 'Pitch_6', 'Yaw_6', 'X_acc_7', 'Y_acc_7', 'Z_acc_7', 'Roll_7', 'Pitch_7', 'Yaw_7']\n"
     ]
    }
   ],
   "source": [
    "columns = ['ID', 'Type', 'Interval Time', 'Time', 'index']\n",
    "for i in range(length_tab):\n",
    "    columns.append(f\"X_acc_{i+1}\")\n",
    "    columns.append(f\"Y_acc_{i+1}\")\n",
    "    columns.append(f\"Z_acc_{i+1}\")\n",
    "    columns.append(f\"Roll_{i+1}\")\n",
    "    columns.append(f\"Pitch_{i+1}\")\n",
    "    columns.append(f\"Yaw_{i+1}\")\n",
    "print(columns)\n",
    "wide_tab = pd.DataFrame(columns = columns)\n",
    "\n",
    "lil_tab = alldf.copy()"
   ]
  },
  {
   "cell_type": "markdown",
   "metadata": {},
   "source": [
    "#### 2.2. We create the flipper feature : equal to 1 when the ID changes, and zero in the other case\n",
    "\\\n",
    "\"index_start\" represent the index for a same ID"
   ]
  },
  {
   "cell_type": "code",
   "execution_count": 11,
   "metadata": {},
   "outputs": [],
   "source": [
    "lil_tab = lil_tab.sort_values(by = ['ID', 'Time'], ascending = [True, True])\n",
    "lil_tab['flipper'] = np.where(lil_tab.ID != lil_tab.ID.shift(1), 1, 0)\n",
    "\n",
    "index_flipper = lil_tab[lil_tab['flipper'] == 1]\n",
    "index_flipper = index_flipper[['ID', 'index']]\n",
    "index_flipper.rename({'index' : 'index_start'}, axis = 1, inplace = True)\n",
    "lil_tab0 = lil_tab.merge(index_flipper, on = 'ID', how = 'left')\n",
    "lil_tab0['index_start'] = lil_tab0['index'] - lil_tab0['index_start'] #not +1 because I don't want to consider the \n",
    "#first value of each sample\n",
    "lil_tab0['lets_tab'] = np.where((lil_tab0.index_start >= length_tab), 1, 0)"
   ]
  },
  {
   "cell_type": "markdown",
   "metadata": {},
   "source": [
    "#### 2.3. Let's define the \"tabularized\" tab"
   ]
  },
  {
   "cell_type": "code",
   "execution_count": 12,
   "metadata": {},
   "outputs": [],
   "source": [
    "for i in range(length_tab):\n",
    "    wide_tab[f\"X_acc_{i+1}\"] = lil_tab[\"X_acc\"].shift(i)\n",
    "    wide_tab[f\"Y_acc_{i+1}\"] = lil_tab[\"Y_acc\"].shift(i)\n",
    "    wide_tab[f\"Z_acc_{i+1}\"] = lil_tab[\"Z_acc\"].shift(i)\n",
    "    wide_tab[f\"Roll_{i+1}\"] = lil_tab[\"Roll\"].shift(i)\n",
    "    wide_tab[f\"Pitch_{i+1}\"] = lil_tab[\"Pitch\"].shift(i)\n",
    "    wide_tab[f\"Yaw_{i+1}\"] = lil_tab[\"Yaw\"].shift(i)\n",
    "    \n",
    "wide_tab[\"ID\"] = lil_tab[\"ID\"]\n",
    "wide_tab[\"Type\"] = lil_tab[\"Type\"]\n",
    "wide_tab[\"Interval Time\"] = lil_tab[\"Interval Time\"]\n",
    "wide_tab[\"Time\"] = lil_tab[\"Time\"]\n",
    "wide_tab[\"index\"] = lil_tab0[\"index_start\"] - length_tab\n",
    "wide_tab[\"lets_tab\"] = lil_tab0[\"lets_tab\"]\n",
    "wide_tab = wide_tab[wide_tab[\"lets_tab\"] == 1]"
   ]
  },
  {
   "cell_type": "markdown",
   "metadata": {},
   "source": [
    "#### 2.4. wide_tab_diff does only the differenciate non orienation values"
   ]
  },
  {
   "cell_type": "code",
   "execution_count": 13,
   "metadata": {},
   "outputs": [],
   "source": [
    "wide_tab_diff = wide_tab.copy()\n",
    "\n",
    "wide_tab_diff['lets_diff'] = np.where(wide_tab_diff.ID != wide_tab_diff.ID.shift(1), 0, 1)\n",
    "for i in range(length_tab):\n",
    "    wide_tab_diff[f\"X_acc_{i+1}\"] = np.where(wide_tab_diff['lets_diff'] == 1, wide_tab_diff[f'X_acc_{i+1}'], 0)\n",
    "    wide_tab_diff[f\"Y_acc_{i+1}\"] = np.where(wide_tab_diff['lets_diff'] == 1, wide_tab_diff[f'Y_acc_{i+1}'], 0)\n",
    "    wide_tab_diff[f\"Z_acc_{i+1}\"] = np.where(wide_tab_diff['lets_diff'] == 1, wide_tab_diff[f'Z_acc_{i+1}'], 0)\n",
    "    wide_tab_diff[f\"Roll_{i+1}\"] = np.where(wide_tab_diff['lets_diff'] == 1, wide_tab_diff[f'Roll_{i+1}'].diff(), 0)\n",
    "    wide_tab_diff[f\"Pitch_{i+1}\"] = np.where(wide_tab_diff['lets_diff'] == 1, wide_tab_diff[f'Pitch_{i+1}'].diff(), 0)\n",
    "    wide_tab_diff[f\"Yaw_{i+1}\"] = np.where(wide_tab_diff['lets_diff'] == 1, wide_tab_diff[f'Yaw_{i+1}'].diff(), 0)\n",
    "\n",
    "    wide_tab_diff.rename({f\"Roll_{i+1}\" : f\"diff_Roll_{i+1}\"}, axis = 1, inplace = True)\n",
    "    wide_tab_diff.rename({f\"Pitch_{i+1}\" : f\"diff_Pitch_{i+1}\"}, axis = 1, inplace = True)\n",
    "    wide_tab_diff.rename({f\"Yaw_{i+1}\" : f\"diff_Yaw_{i+1}\"}, axis = 1, inplace = True)\n",
    "wide_tab_diff = wide_tab_diff[wide_tab_diff[\"lets_diff\"] == 1]"
   ]
  },
  {
   "cell_type": "markdown",
   "metadata": {},
   "source": [
    "#### 2.5. The split_train_test function is a special : it does the split on the ID and then consider all samples of the same ID to be in a same train or test group"
   ]
  },
  {
   "cell_type": "code",
   "execution_count": 14,
   "metadata": {},
   "outputs": [],
   "source": [
    "def get_split_train_test(dff = wide_tab):\n",
    "    global df\n",
    "    i = 0 \n",
    "    while i == 0:\n",
    "        ## Get a unique list of ID\n",
    "        aa = wide_tab.copy()\n",
    "        pd_id = aa.drop_duplicates(subset = 'ID', keep = 'first')\n",
    "        pd_id = pd_id[['ID', 'Type']]\n",
    "\n",
    "        ##Create random number between 0 and 1\n",
    "\n",
    "        pd_id['boogie'] = (np.random.rand(len(pd_id)))\n",
    "        pd_id['Modeling_Group'] = np.where(pd_id['boogie'] > 0.7, 'Test', 'Train')\n",
    "        pd_id_pivot = pd_id.pivot_table(index = 'Type', columns = 'Modeling_Group', aggfunc = 'size')\n",
    "        # pd_id_pivot['Roll']['Test']\n",
    "        test_values = pd_id_pivot.loc[:]['Test']\n",
    "        i = test_values[(test_values > (n_id//3)*0.8) & (test_values < (n_id //3) * 1.2)].shape[0] // 3\n",
    "\n",
    "    pd_id = pd_id.drop(['Type'], axis = 1)\n",
    "    X_data = pd.merge(dff, pd_id, on = 'ID', how = 'left')\n",
    "    #print(X_data.head())\n",
    "    X_train = X_data[X_data['Modeling_Group'] == 'Train']\n",
    "    y_train = X_train['Type']\n",
    "    X_train = X_train.drop(['Type','boogie', 'Modeling_Group', 'index', 'Interval Time', 'Time', 'lets_diff'], axis = 1, errors='ignore')\n",
    "\n",
    "    X_test = X_data[X_data['Modeling_Group'] == 'Test']\n",
    "    y_test = X_test['Type']\n",
    "    X_test = X_test.drop(['Type', 'boogie', 'Modeling_Group', 'index', 'Interval Time', 'Time', 'lets_diff'], axis = 1, errors = 'ignore')\n",
    "\n",
    "    return X_data, X_train, y_train, X_test, y_test\n",
    "\n"
   ]
  },
  {
   "cell_type": "markdown",
   "metadata": {},
   "source": [
    "## 3. Model Part"
   ]
  },
  {
   "cell_type": "markdown",
   "metadata": {},
   "source": [
    "#### 3.1. This function is to quiclkly evaluate the model used"
   ]
  },
  {
   "cell_type": "code",
   "execution_count": 15,
   "metadata": {},
   "outputs": [],
   "source": [
    "def evaluate_model_tab(alg, X_data, X_train, y_train, X_test, y_test, accuracy_return : bool = False, plot : bool = False, tree = False):\n",
    "    y_test_ID = X_data[X_data['Modeling_Group'] == 'Test'][['ID', 'Type']]\n",
    "    X_train = X_train.drop(['ID', 'lets_tab'], axis = 1)\n",
    "    X_test = X_test.drop(['ID', 'lets_tab'], axis = 1)\n",
    "    \n",
    "    clf = alg.fit(X_train, y_train)\n",
    "    #Predict training set:\n",
    "    prediction = clf.predict(X_test)\n",
    "    print(f\"Confusion Matrix: \\n{confusion_matrix(y_test, prediction)}\")\n",
    "    y_test_ID = X_data[X_data['Modeling_Group'] == 'Test'][['ID', 'Type']]\n",
    "    y_test_ID['Prediction'] = prediction\n",
    "    Y_result = y_test_ID.groupby('ID').agg(lambda x: pd.Series.mode(x)[0])\n",
    "    if plot and tree:\n",
    "        feat_imp = pd.Series(clf.feature_importances_, index = X_train.columns).sort_values(ascending = False)[:15]\n",
    "        feat_imp.plot.bar()\n",
    "        plt.ylabel('Feature Importance Score')\n",
    "        plt.show()\n",
    "    score = round(clf.score(X_test, y_test),2)\n",
    "    print(f\"Dumb Accuracy: {score}\")\n",
    "    print(f\"Adapted Accuracy: {accuracy_score(Y_result['Type'], Y_result['Prediction']):.2f}\")\n",
    "    if accuracy_return:\n",
    "        return round(accuracy_score(Y_result['Type'], Y_result['Prediction']),2)\n",
    "    return clf, score"
   ]
  },
  {
   "cell_type": "markdown",
   "metadata": {},
   "source": [
    "#### 3.2. An example with  Decision Tree"
   ]
  },
  {
   "cell_type": "code",
   "execution_count": 16,
   "metadata": {},
   "outputs": [
    {
     "name": "stdout",
     "output_type": "stream",
     "text": [
      "Confusion Matrix: \n",
      "[[1036   48   62  103]\n",
      " [  20 2877   16   32]\n",
      " [  76   84 2598   70]\n",
      " [ 106   20   28 2740]]\n",
      "Dumb Accuracy: 0.93\n",
      "Adapted Accuracy: 0.99\n"
     ]
    }
   ],
   "source": [
    "from sklearn.ensemble import RandomForestClassifier\n",
    "from sklearn.tree import DecisionTreeClassifier\n",
    "\n",
    "random_state = 99\n",
    "knn = KNN()\n",
    "dtc = DecisionTreeClassifier(random_state = 99)\n",
    "clf = RandomForestClassifier(n_estimators = 1, random_state = 99)\n",
    "\n",
    "X_data, X_train, y_train, X_test, y_test = get_split_train_test(wide_tab_diff)\n",
    "rf_tab_micro, score = evaluate_model_tab(dtc, X_data, X_train, y_train, X_test, y_test, accuracy_return=False, plot = False)"
   ]
  },
  {
   "cell_type": "markdown",
   "metadata": {},
   "source": [
    "Here, the prediction score is around 90 percent"
   ]
  },
  {
   "cell_type": "code",
   "execution_count": 17,
   "metadata": {},
   "outputs": [
    {
     "data": {
      "text/plain": [
       "0.93"
      ]
     },
     "execution_count": 17,
     "metadata": {},
     "output_type": "execute_result"
    }
   ],
   "source": [
    "score"
   ]
  },
  {
   "cell_type": "markdown",
   "metadata": {},
   "source": [
    "#### 3.3. uncomment cell below to save in a pickle file"
   ]
  },
  {
   "cell_type": "code",
   "execution_count": 18,
   "metadata": {},
   "outputs": [],
   "source": [
    "# filename = 'WPC_test_orientation'\n",
    "# with open(f\"classifiers/{filename}.pkl\", 'wb') as file:\n",
    "#       pickle.dump(dtc, file)"
   ]
  },
  {
   "cell_type": "markdown",
   "metadata": {
    "tags": [
     "parameters"
    ]
   },
   "source": [
    "## 4. AI part - Ignore if you just want to train on classics ml models"
   ]
  },
  {
   "cell_type": "code",
   "execution_count": 20,
   "metadata": {},
   "outputs": [],
   "source": [
    "wide_tab_classic = wide_tab_diff.copy()\n",
    "y_c = wide_tab_classic['Type']\n",
    "wide_tab_classic = wide_tab_classic.drop(['Type', 'ID', 'Time', 'Interval Time', 'index', 'lets_tab', 'lets_diff'], axis = 1)"
   ]
  },
  {
   "cell_type": "markdown",
   "metadata": {},
   "source": [
    "AI part, below there is a neural network with one hidden layer of 8 neurons and an output layer of 4 neurons\n",
    "\\\n",
    "There is a part to uncomment if you want to train the model"
   ]
  },
  {
   "cell_type": "code",
   "execution_count": 21,
   "metadata": {},
   "outputs": [
    {
     "ename": "NameError",
     "evalue": "name 'history_1' is not defined",
     "output_type": "error",
     "traceback": [
      "\u001b[1;31m---------------------------------------------------------------------------\u001b[0m",
      "\u001b[1;31mNameError\u001b[0m                                 Traceback (most recent call last)",
      "Input \u001b[1;32mIn [21]\u001b[0m, in \u001b[0;36m<cell line: 46>\u001b[1;34m()\u001b[0m\n\u001b[0;32m     41\u001b[0m early_stopping \u001b[38;5;241m=\u001b[39m tf\u001b[38;5;241m.\u001b[39mkeras\u001b[38;5;241m.\u001b[39mcallbacks\u001b[38;5;241m.\u001b[39mEarlyStopping(\n\u001b[0;32m     42\u001b[0m     monitor\u001b[38;5;241m=\u001b[39m\u001b[38;5;124m'\u001b[39m\u001b[38;5;124mval_loss\u001b[39m\u001b[38;5;124m'\u001b[39m, min_delta\u001b[38;5;241m=\u001b[39m\u001b[38;5;241m0\u001b[39m, patience\u001b[38;5;241m=\u001b[39m\u001b[38;5;241m10\u001b[39m, verbose\u001b[38;5;241m=\u001b[39m\u001b[38;5;241m0\u001b[39m, mode\u001b[38;5;241m=\u001b[39m\u001b[38;5;124m'\u001b[39m\u001b[38;5;124mauto\u001b[39m\u001b[38;5;124m'\u001b[39m\n\u001b[0;32m     43\u001b[0m )\n\u001b[0;32m     45\u001b[0m \u001b[38;5;66;03m# Exclude the first few epochs so the graph is easier to read\u001b[39;00m\n\u001b[1;32m---> 46\u001b[0m loss \u001b[38;5;241m=\u001b[39m \u001b[43mhistory_1\u001b[49m\u001b[38;5;241m.\u001b[39mhistory[\u001b[38;5;124m'\u001b[39m\u001b[38;5;124mloss\u001b[39m\u001b[38;5;124m'\u001b[39m]\n\u001b[0;32m     47\u001b[0m val_loss \u001b[38;5;241m=\u001b[39m history_1\u001b[38;5;241m.\u001b[39mhistory[\u001b[38;5;124m'\u001b[39m\u001b[38;5;124mval_loss\u001b[39m\u001b[38;5;124m'\u001b[39m]\n\u001b[0;32m     48\u001b[0m epochs \u001b[38;5;241m=\u001b[39m \u001b[38;5;28mrange\u001b[39m(\u001b[38;5;241m1\u001b[39m, \u001b[38;5;28mlen\u001b[39m(loss) \u001b[38;5;241m+\u001b[39m \u001b[38;5;241m1\u001b[39m)\n",
      "\u001b[1;31mNameError\u001b[0m: name 'history_1' is not defined"
     ]
    }
   ],
   "source": [
    "import tensorflow as tf\n",
    "from tensorflow import keras\n",
    "\n",
    "\n",
    "mapping = {'Roll' : 0, 'Pitch' : 1, 'Yaw' : 2, 'Neutral' : 3}\n",
    "    \n",
    "def to_int(l):\n",
    "    return [mapping[i] for i in l]\n",
    "\n",
    "#split dataset in features and target variable\n",
    "X_ai, y_ai = wide_tab_classic.copy(), y_c.copy()\n",
    "X_ai, y_ai = np.array(X_ai.to_numpy()), np.array(y_ai.to_numpy())\n",
    "y_ai = np.array(to_int(y_ai))\n",
    "from sklearn.preprocessing import StandardScaler\n",
    "scaler = StandardScaler()\n",
    "X_ai_t = scaler.fit_transform(X_ai)\n",
    "# split X and y into training and testing sets\n",
    "from sklearn.model_selection import train_test_split\n",
    "X_train_ai ,X_test_ai ,y_train_ai ,y_test_ai =train_test_split(X_ai_t,y_ai,test_size=0.1,random_state=0)\n",
    "# We'll use Keras to create a Neural network\n",
    "model = tf.keras.Sequential()\n",
    "model = tf.keras.Sequential([\n",
    "    tf.keras.Input(shape=(42,)),\n",
    "    keras.layers.Dense(8, activation='relu'),\n",
    "    # keras.layers.Dense(8,activation='relu'),\n",
    "    keras.layers.Dense(4,activation='sigmoid',\n",
    "                           )\n",
    "])\n",
    "model.compile(optimizer='adam', loss='sparse_categorical_crossentropy', metrics=['accuracy'])\n",
    "##10 epochs only to avoid losing to much time when running the whole jupyter, 100 in normal time\n",
    "\n",
    "\n",
    "##UNCOMMENT BELOW IF YOU WANT TO TRAIN THE AI MODEL\n",
    "\n",
    "#history_1 = model.fit(X_train_ai, y_train_ai, epochs=10, validation_data=(X_test_ai, y_test_ai))\n",
    "\n",
    "##UNCOMMENT ABOVE IF YOU WANT TO TRAIN THE AI MODEL\n",
    "\n",
    "\n",
    "# Early stopping\n",
    "early_stopping = tf.keras.callbacks.EarlyStopping(\n",
    "    monitor='val_loss', min_delta=0, patience=10, verbose=0, mode='auto'\n",
    ")\n",
    "\n",
    "# Exclude the first few epochs so the graph is easier to read\n",
    "loss = history_1.history['loss']\n",
    "val_loss = history_1.history['val_loss']\n",
    "epochs = range(1, len(loss) + 1)\n",
    "SKIP = 10\n",
    "plt.plot(epochs[SKIP:], loss[SKIP:], 'g.', label='Training loss')\n",
    "plt.plot(epochs[SKIP:], val_loss[SKIP:], 'b.', label='Validation loss')\n",
    "plt.title('Training and validation loss')\n",
    "plt.xlabel('Epochs')\n",
    "plt.ylabel('Loss')\n",
    "plt.legend()\n",
    "plt.show()\n",
    "# Find the weights of the model\n",
    "weights = model.get_weights()\n",
    "print(weights)\n",
    "# Saving the array in a text file\n",
    "file = open(\"micropython_codes/ESP32/temporary_models/hyper_param_gyr.txt\", \"w+\")\n",
    "content = str(weights)\n",
    "file.write(content)\n",
    "file.close()\n",
    "y_pred = model.predict(X_test_ai)\n",
    "# extract the predicted probabilities\n",
    "p_pred = model.predict(X_test_ai)\n",
    "p_pred = p_pred.flatten()\n",
    "\n",
    "print(p_pred.round(2))\n",
    "# [1. 0.01 0.91 0.87 0.06 0.95 0.24 0.58 0.78 ...\n",
    "\n",
    "# extract the predictedch class labels\n",
    "y_pred = np.where(p_pred > 0.5, 1, 0)\n",
    "print(y_pred)\n"
   ]
  },
  {
   "cell_type": "markdown",
   "metadata": {},
   "source": [
    "### If you want to get the weights to use the micropython models, copy paste them from the hyper_param_gyr.txt file inside of micropython_codes/ESP32/temporary_models and paste them in the MicroPython model"
   ]
  }
 ],
 "metadata": {
  "kernelspec": {
   "display_name": "Python 3",
   "language": "python",
   "name": "python3"
  },
  "language_info": {
   "codemirror_mode": {
    "name": "ipython",
    "version": 3
   },
   "file_extension": ".py",
   "mimetype": "text/x-python",
   "name": "python",
   "nbconvert_exporter": "python",
   "pygments_lexer": "ipython3",
   "version": "3.9.13"
  }
 },
 "nbformat": 4,
 "nbformat_minor": 2
}
